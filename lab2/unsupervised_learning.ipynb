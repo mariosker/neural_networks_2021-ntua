{
  "cells": [
    {
      "cell_type": "markdown",
      "metadata": {
        "id": "CDH3wm77KhjG"
      },
      "source": [
        "Από την Ομάδα 70, που αποτελείται από τους:\n",
        "\n",
        "- Ιωάννης Μιχαήλ Καζελίδης 03117885\n",
        "- Μάριος Κερασιώτης 03117890\n",
        "- Ιωάννης Γκιορτζής 03117152"
      ]
    },
    {
      "cell_type": "markdown",
      "metadata": {
        "id": "hLFXD3IePSyL"
      },
      "source": [
        "# Εργαστηριακή Άσκηση 2. Μη επιβλεπόμενη μάθηση. \n",
        "## Σύστημα συστάσεων βασισμένο στο περιεχόμενο\n",
        "## Σημασιολογική απεικόνιση δεδομένων με χρήση SOM \n",
        "Ημερομηνία εκφώνησης της άσκησης: 23 Νοεμβρίου 2021\n",
        "\n",
        "**Θα βρείτε το παρόν σε μορφή jupyter notebook ως συνημμένο στο τέλος της εκφώνησης.**\n"
      ]
    },
    {
      "cell_type": "code",
      "execution_count": 2,
      "metadata": {
        "id": "S5wbBzIYnird"
      },
      "outputs": [],
      "source": [
        "# %pip install --upgrade pip\n",
        "# %pip install --upgrade numpy\n",
        "# %pip install --upgrade pandas\n",
        "# %pip install --upgrade nltk\n",
        "# %pip install --upgrade scikit-learn\n",
        "# %pip install --upgrade joblib\n",
        "# %pip install --upgrade somoclu\n",
        "# %pip install -U gensim"
      ]
    },
    {
      "cell_type": "markdown",
      "metadata": {
        "id": "aViHqlQcPSyP"
      },
      "source": [
        "## Εισαγωγή του Dataset"
      ]
    },
    {
      "cell_type": "markdown",
      "metadata": {
        "id": "2ZVmdDExPSyQ"
      },
      "source": [
        "Το σύνολο δεδομένων με το οποίο θα δουλέψουμε είναι βασισμένο στο [Carnegie Mellon Movie Summary Corpus](http://www.cs.cmu.edu/~ark/personas/). Πρόκειται για ένα dataset με 22.301 περιγραφές ταινιών. Η περιγραφή κάθε ταινίας αποτελείται από τον τίτλο της, μια ή περισσότερες ετικέτες που χαρακτηρίζουν το είδος της ταινίας και τέλος τη σύνοψη της υπόθεσής της. Αρχικά εισάγουμε το dataset (χρησιμοποιήστε αυτούσιο τον κώδικα, δεν χρειάζεστε το αρχείο csv) στο dataframe `df_data_1`: "
      ]
    },
    {
      "cell_type": "code",
      "execution_count": 3,
      "metadata": {
        "id": "62SOj46gPSyS"
      },
      "outputs": [],
      "source": [
        "import pandas as pd\n",
        "\n",
        "dataset_url = \"https://drive.google.com/uc?export=download&id=1-tN5rC1QCgwqL67cvIXdMbtd-Xf9Xqow\"\n",
        "df_data_1 = pd.read_csv(dataset_url, sep='\\t',  header=None, quoting=3)"
      ]
    },
    {
      "cell_type": "markdown",
      "metadata": {
        "id": "7TAEZGdIPSyW"
      },
      "source": [
        "Κάθε ομάδα θα δουλέψει σε **ένα μοναδικό υποσύνολο 5.000 ταινιών** (διαφορετικό dataset για κάθε ομάδα) ως εξής:\n",
        "\n",
        "1. Κάθε ομάδα του εργαστηρίου νευρωνικών έχει έναν αριθμό στο helios. Θα βάλετε τον αριθμό αυτό στη μεταβλητή team_seed_number στο επόμενο κελί κώδικα.\n",
        "\n",
        "2. Το data frame `df_data_2` έχει γραμμές όσες και οι ομάδες και 5.000 στήλες. Σε κάθε ομάδα αντιστοιχεί η γραμμή του πίνακα με το `team_seed_number` της. Η γραμμή αυτή θα περιλαμβάνει 5.000 διαφορετικούς αριθμούς που αντιστοιχούν σε ταινίες του αρχικού dataset. \n",
        "\n",
        "3. Τρέξτε τον κώδικα. Θα προκύψουν τα μοναδικά για κάθε ομάδα  titles, categories, catbins, summaries και corpus με τα οποία θα δουλέψετε."
      ]
    },
    {
      "cell_type": "code",
      "execution_count": 4,
      "metadata": {
        "id": "2POlqDjkPSyY"
      },
      "outputs": [],
      "source": [
        "import numpy as np\n",
        "\n",
        "# Στην επόμενη γραμμή βάλτε τον αριθμό της ομάδας στο εργαστήριο των νευρωνικών\n",
        "team_seed_number = 70\n",
        "\n",
        "movie_seeds_url = \"https://drive.google.com/uc?export=download&id=1-oeMf7BFmiH70XObgC9WOTo-a9cDJZwP\"\n",
        "df_data_2 = pd.read_csv(movie_seeds_url, header=None)\n",
        "\n",
        "# επιλέγεται \n",
        "my_index = df_data_2.iloc[team_seed_number,:].values\n",
        "\n",
        "titles = df_data_1.iloc[:, [2]].values[my_index] # movie titles (string)\n",
        "categories = df_data_1.iloc[:, [3]].values[my_index] # movie categories (string)\n",
        "bins = df_data_1.iloc[:, [4]]\n",
        "catbins = bins[4].str.split(',', expand=True).values.astype(float)[my_index] # movie categories in binary form (1 feature per category)\n",
        "summaries =  df_data_1.iloc[:, [5]].values[my_index] # movie summaries (string)\n",
        "corpus = summaries[:,0].tolist() # list form of summaries\n",
        "corpus_df = pd.DataFrame(corpus) # dataframe version of corpus"
      ]
    },
    {
      "cell_type": "markdown",
      "metadata": {
        "id": "If66lkwxPSyb"
      },
      "source": [
        "- Ο πίνακας **titles** περιέχει τους τίτλους των ταινιών. Παράδειγμα: 'Sid and Nancy'.\n",
        "- O πίνακας **categories** περιέχει τις κατηγορίες (είδη) της ταινίας υπό τη μορφή string. Παράδειγμα: '\"Tragedy\",  \"Indie\",  \"Punk rock\",  \"Addiction Drama\",  \"Cult\",  \"Musical\",  \"Drama\",  \"Biopic \\[feature\\]\",  \"Romantic drama\",  \"Romance Film\",  \"Biographical film\"'. Παρατηρούμε ότι είναι μια comma separated λίστα strings, με κάθε string να είναι μια κατηγορία.\n",
        "- Ο πίνακας **catbins** περιλαμβάνει πάλι τις κατηγορίες των ταινιών αλλά σε δυαδική μορφή ([one hot encoding](https://hackernoon.com/what-is-one-hot-encoding-why-and-when-do-you-have-to-use-it-e3c6186d008f)). Έχει διαστάσεις 5.000 x 322 (όσες οι διαφορετικές κατηγορίες). Αν η ταινία ανήκει στο συγκεκριμένο είδος η αντίστοιχη στήλη παίρνει την τιμή 1, αλλιώς παίρνει την τιμή 0.\n",
        "- Ο πίνακας **summaries** και η λίστα **corpus** περιλαμβάνουν τις συνόψεις των ταινιών (η corpus είναι απλά ο summaries σε μορφή λίστας). Κάθε σύνοψη είναι ένα (συνήθως μεγάλο) string. Παράδειγμα: *'The film is based on the real story of a Soviet Internal Troops soldier who killed his entire unit  as a result of Dedovschina. The plot unfolds mostly on board of the prisoner transport rail car guarded by a unit of paramilitary conscripts.'*\n",
        "- το dataframe corpus_df που είναι απλά το corpus σε μορφή dataframe. Τα summaries βρίσκονται στην κολόνα 0. Πιθανώς να σας βολεύει να κάνετε κάποιες προεπεξεργασίες με dataframes.\n",
        "\n",
        "\n",
        "Θεωρούμε ως **ID** της κάθε ταινίας τον αριθμό γραμμής της ή το αντίστοιχο στοιχείο της λίστας. Παράδειγμα: για να τυπώσουμε τη σύνοψη της ταινίας με `ID=999` (την χιλιοστή) θα γράψουμε `print(corpus[999])`."
      ]
    },
    {
      "cell_type": "code",
      "execution_count": 5,
      "metadata": {
        "id": "k_7A3KXLp0qS"
      },
      "outputs": [
        {
          "name": "stdout",
          "output_type": "stream",
          "text": [
            "['Obsessed']\n",
            "['\"Drama\"']\n",
            "[0. 0. 0. 0. 0. 0. 0. 0. 0. 0. 0. 0. 0. 0. 0. 0. 0. 0. 0. 0. 0. 0. 0. 0.\n",
            " 0. 0. 0. 0. 0. 0. 0. 0. 0. 0. 0. 0. 0. 0. 0. 0. 0. 0. 0. 0. 0. 0. 0. 0.\n",
            " 0. 0. 0. 0. 0. 0. 0. 0. 0. 0. 0. 0. 0. 0. 0. 0. 0. 0. 0. 0. 0. 0. 0. 0.\n",
            " 0. 0. 0. 0. 0. 0. 0. 0. 0. 0. 0. 0. 0. 0. 0. 0. 0. 0. 0. 0. 0. 0. 0. 0.\n",
            " 0. 0. 0. 0. 0. 0. 0. 0. 0. 1. 0. 0. 0. 0. 0. 0. 0. 0. 0. 0. 0. 0. 0. 0.\n",
            " 0. 0. 0. 0. 0. 0. 0. 0. 0. 0. 0. 0. 0. 0. 0. 0. 0. 0. 0. 0. 0. 0. 0. 0.\n",
            " 0. 0. 0. 0. 0. 0. 0. 0. 0. 0. 0. 0. 0. 0. 0. 0. 0. 0. 0. 0. 0. 0. 0. 0.\n",
            " 0. 0. 0. 0. 0. 0. 0. 0. 0. 0. 0. 0. 0. 0. 0. 0. 0. 0. 0. 0. 0. 0. 0. 0.\n",
            " 0. 0. 0. 0. 0. 0. 0. 0. 0. 0. 0. 0. 0. 0. 0. 0. 0. 0. 0. 0. 0. 0. 0. 0.\n",
            " 0. 0. 0. 0. 0. 0. 0. 0. 0. 0. 0. 0. 0. 0. 0. 0. 0. 0. 0. 0. 0. 0. 0. 0.\n",
            " 0. 0. 0. 0. 0. 0. 0. 0. 0. 0. 0. 0. 0. 0. 0. 0. 0. 0. 0. 0. 0. 0. 0. 0.\n",
            " 0. 0. 0. 0. 0. 0. 0. 0. 0. 0. 0. 0. 0. 0. 0. 0. 0. 0. 0. 0. 0. 0. 0. 0.\n",
            " 0. 0. 0. 0. 0. 0. 0. 0. 0. 0. 0. 0. 0. 0. 0. 0. 0. 0. 0. 0. 0. 0. 0. 0.\n",
            " 0. 0. 0. 0. 0. 0. 0. 0. 0. 0.]\n",
            "Lorie Brindel is a young marine surveyor who is attracted to older men, including one of her clients, Ed Bledsoe, a much older and twice-divorced man. After some flirting during her assessment of his yacht, they begin to date. While he is away on a business trip, Lorie moves in without asking. Although unhappy about it, he eventually relents and allows her to stay. As times passes, Lorie completely unravels from Ed's lack of commitment, and she cannot stand it when he chooses a golf tournament over her romantic weekend. Ed, never sure about their relationship, decides he's had enough and orders her to move out that day. Lorie cannot accept it's over and believes it's just a lovers' spat that will ultimately result in marriage. She calls at night, begging for another chance, but is refused. Though he denies any intention to see her, Ed checks up on Lorie and punches out a man who was harassing her. Feeling trapped, Ed entertains and eventually sleeps with Lorie again. He resolves to break it off the next day, but she calls throughout the night, phoning everyone she knows when he doesn't answer. Andie, Ed's daughter, convinces him to be harsh, and he informs Lorie that she needs to leave him alone or he'll change his number. Feeling betrayed, Lorie makes two attempts to see Ed, first embarrassing him in front of his friends and a new woman, Louise, then showing up drunk and barely dressed for his birthday night where she is chased away by Andie. Rejected, Lorie tries to commit suicide. Ed feels guilty and visits the hospital to make sure she's stable, then leaves again without seeing her. In the doctor's office, Lorie describes what she thinks would have been the perfect romance but is ultimately released. Lorie becomes increasingly unstable, following Ed and threatening to destroy his possessions. She blows up his boat, and Ed finally reports her. However, the police are unable to help without proof. Lorie is fired from her job due to her behavior, which she blames on Ed. At his house, she takes his handgun and waits, then despite pleas from Ed, attempts to kill Andie. Ed attacks and almost chokes Lorie to death before being pulled off by his daughter. Lorie is taken to another doctor's office but is hostile and refuses to cooperate; when she is led away, she violently pulls her arm out of the guard's grasp. On a new yacht, Ed sees Louise as the best thing that ever happened to him. As he is looking at the scenery, he notices another yacht with a woman on it. He makes eye contact only to discover it is Lorie.\n"
          ]
        }
      ],
      "source": [
        "ID = 999\n",
        "print(titles[ID])\n",
        "print(categories[ID])\n",
        "print(catbins[ID])\n",
        "print(corpus[ID])"
      ]
    },
    {
      "cell_type": "markdown",
      "metadata": {
        "id": "UTNgwBfjPSyc"
      },
      "source": [
        "# Εφαρμογή 1. Υλοποίηση συστήματος συστάσεων ταινιών βασισμένο στο περιεχόμενο\n",
        "<img src=\"http://clture.org/wp-content/uploads/2015/12/Netflix-Streaming-End-of-Year-Posts.jpg\" width=\"70%\">"
      ]
    },
    {
      "cell_type": "markdown",
      "metadata": {
        "id": "rnA2RP8GPSyf"
      },
      "source": [
        "Η πρώτη εφαρμογή που θα αναπτύξετε θα είναι ένα [σύστημα συστάσεων](https://en.wikipedia.org/wiki/Recommender_system) ταινιών βασισμένο στο περιεχόμενο (content based recommender system). Τα συστήματα συστάσεων στοχεύουν στο να προτείνουν αυτόματα στο χρήστη αντικείμενα από μια συλλογή τα οποία ιδανικά θέλουμε να βρει ενδιαφέροντα ο χρήστης. Η κατηγοριοποίηση των συστημάτων συστάσεων βασίζεται στο πώς γίνεται η επιλογή (filtering) των συστηνόμενων αντικειμένων. Οι δύο κύριες κατηγορίες είναι η συνεργατική διήθηση (collaborative filtering) όπου το σύστημα προτείνει στο χρήστη αντικείμενα που έχουν αξιολογηθεί θετικά από χρήστες που έχουν παρόμοιο με αυτόν ιστορικό αξιολογήσεων και η διήθηση με βάση το περιεχόμενο (content based filtering), όπου προτείνονται στο χρήστη αντικείμενα με παρόμοιο περιεχόμενο (με βάση κάποια χαρακτηριστικά) με αυτά που έχει προηγουμένως αξιολογήσει θετικά.\n",
        "\n",
        "Το σύστημα συστάσεων που θα αναπτύξετε θα βασίζεται στο **περιεχόμενο** και συγκεκριμένα στις συνόψεις των ταινιών (corpus). \n"
      ]
    },
    {
      "cell_type": "markdown",
      "metadata": {
        "id": "l3nZv-xueEtd"
      },
      "source": [
        "## Προεπεξεργασία\n",
        "\n",
        "Το πρώτο βήμα στην επεξεργασία μας είναι ο καθαρισμός των περιγραφών των ταινιών. \n",
        "\n",
        "Εκτυπώστε (αρκετές) διαφορετικές περιγραφές ταινιών για να δείτε πιθανά προβλήματα που θα πρέπει να αντιμετωπιστούν.\n",
        "\n",
        "Τα (ελάχιστα) βήματα καθαρισμού που προτείνουμε είναι:\n",
        "- μετατροπή όλων των χαρακτήρων σε πεζά,\n",
        "- αφαίρεση των stopwords. Εδώ σημειώστε ότι για το δεδομένο task του συστήματος συστάσεων που είναι η πρόταση ταινιών ίσως θα είχαν ενδιαφέρον και λίστες stopwords πέραν αυτών της κοινής γλώσσας.\n",
        "- αφαίρεση σημείων στίξης και ειδικών χαρακτήρων (special characters). Αυτό δεν γίνεται μόνο με την punkt του NLTK. Θα μπορούσατε να βασιστείτε σε κανονικές εκφράσεις (regular expressions), και\n",
        "- αφαίρεση πολυ σύντομων συμβολοσειρών.\n",
        "\n",
        "Προσοχή: το corpus και τα τελικά tokens που θα το αποτελούν θα χρησιμοποιηθούν στη συνέχεια ως κλειδιά για να βρούμε εμφυτεύματα. Για το λόγο αυτό, πρέπει να είστε προσεκτικοί ως προς την εφαρμογή μεθόδων κανονικοποίησης (text normalization) όπως το stemming και το lemmatization."
      ]
    },
    {
      "cell_type": "code",
      "execution_count": 6,
      "metadata": {},
      "outputs": [],
      "source": [
        "import re\n",
        "\n",
        "cannonicalized_summaries = []\n",
        "for summary in summaries: \n",
        "    cannonicalized_summaries.append([re.sub('[^A-Za-z0-9 ]+', '', str(summary).lower())])\n",
        "\n",
        "# change to new cannonicalized summaries \n",
        "summaries = np.array(cannonicalized_summaries)\n",
        "corpus = summaries[:,0].tolist() # list form of summaries\n",
        "corpus_df = pd.DataFrame(corpus)"
      ]
    },
    {
      "cell_type": "markdown",
      "metadata": {
        "id": "DD5KuSKrxQ8I"
      },
      "source": [
        "## Μετατροπή σε TFIDF\n",
        "\n",
        "Το πρώτο βήμα θα είναι λοιπόν να μετατρέψετε το corpus σε αναπαράσταση tf-idf:"
      ]
    },
    {
      "cell_type": "code",
      "execution_count": 25,
      "metadata": {
        "id": "s5YP6XCZPSyh"
      },
      "outputs": [],
      "source": [
        "from sklearn.feature_extraction.text import TfidfVectorizer\n",
        "# create sparse tf_idf representation\n",
        "vectorizer = TfidfVectorizer(decode_error='strict')\n",
        "corpus_tf_idf_plain = vectorizer.fit_transform(corpus)"
      ]
    },
    {
      "cell_type": "markdown",
      "metadata": {
        "id": "H-uRZK3EPSyl"
      },
      "source": [
        "Η συνάρτηση [TfidfVectorizer](http://scikit-learn.org/stable/modules/generated/sklearn.feature_extraction.text.TfidfVectorizer.html) όπως καλείται εδώ **δεν είναι βελτιστοποιημένη**. Οι επιλογές των μεθόδων και παραμέτρων της μπορεί να έχουν **δραματική επίδραση στην ποιότητα των συστάσεων** και είναι διαφορετικές για κάθε dataset. Επίσης, οι επιλογές αυτές έχουν πολύ μεγάλη επίδραση και στη **διαστατικότητα και όγκο των δεδομένων**. Η διαστατικότητα των δεδομένων με τη σειρά της θα έχει πολύ μεγάλη επίδραση στους **χρόνους εκπαίδευσης**, ιδιαίτερα στη δεύτερη εφαρμογή της άσκησης.\n",
        "\n",
        "Προσοχή: ο TfidfVectorizer έχει κάποιες δυνατότητες προεπεξεργασίας παρόποιες με αυτές που αναφέραμε στην προηγούμενη ενότητα. Ό,τι προεπεξεργασία μπορείτε να κάνετε που χρειάζεται ως είσοδο μόνο το κάθε document ξεχωριστά, κάντε την στο πρώτο βήμα της προεπεξεργασίας. Αν χρειάζεται γνώση των συνολικών στατιστικών της συλλογής, κάντε την με τον TfidfVectorizer."
      ]
    },
    {
      "cell_type": "code",
      "execution_count": 26,
      "metadata": {
        "id": "y_Cw0brpnisF"
      },
      "outputs": [
        {
          "name": "stdout",
          "output_type": "stream",
          "text": [
            "(5000, 57928)\n"
          ]
        }
      ],
      "source": [
        "print(corpus_tf_idf_plain.shape)"
      ]
    },
    {
      "cell_type": "markdown",
      "metadata": {
        "id": "3LsmvSyVykTU"
      },
      "source": [
        "## Υλοποίηση του συστήματος συστάσεων\n",
        "\n",
        "Το σύστημα συστάσεων που θα υλοποιήσετε θα είναι μια συνάρτηση `content_recommender` με τρία ορίσματα: `target_movie`, `max_recommendations` και `corpus_type`. Στην `target_movie` περνάμε το ID μιας ταινίας-στόχου για την οποία μας ενδιαφέρει να βρούμε παρόμοιες ως προς το περιεχόμενο (τη σύνοψη) ταινίες, `max_recommendations` στο πλήθος.\n",
        "Υλοποιήστε τη συνάρτηση ως εξής: \n",
        "- για την ταινία-στόχο, θα υπολογίζετε την [ομοιότητα συνημιτόνου](https://en.wikipedia.org/wiki/Cosine_similarity) της με όλες τις ταινίες της συλλογής σας όπως αυτές αναπαριστώνται στο `corpus_type`.\n",
        "- με βάση την ομοιότητα συνημιτόνου που υπολογίσατε, δημιουργήστε ταξινομημένο πίνακα από το μεγαλύτερο στο μικρότερο, με τα indices (`ID`) των ταινιών. Παράδειγμα: αν η ταινία με index 1 έχει ομοιότητα συνημιτόνου με 3 ταινίες \\[0.2 1 0.6\\] (έχει ομοιότητα 1 με τον εαύτό της) ο ταξινομημένος αυτός πίνακας indices θα είναι \\[1 2 0\\].\n",
        "- Για την ταινία-στόχο εκτυπώστε: id, τίτλο, σύνοψη, κατηγορίες (categories)\n",
        "- Για τις `max_recommendations` ταινίες (πλην της ίδιας της ταινίας-στόχου που έχει cosine similarity 1 με τον εαυτό της) με τη μεγαλύτερη ομοιότητα συνημιτόνου (σε φθίνουσα σειρά), τυπώστε σειρά σύστασης (1 πιο κοντινή, 2 η δεύτερη πιο κοντινή κλπ), ομοιότητα συνημιτόνου, id, τίτλο, σύνοψη, και κατηγορίες (categories)\n"
      ]
    },
    {
      "cell_type": "code",
      "execution_count": 127,
      "metadata": {},
      "outputs": [
        {
          "name": "stdout",
          "output_type": "stream",
          "text": [
            "index: 3396\n",
            "title: Festival of Lights\n",
            "summary: separated from her father when their family immigrates from guyana a young girl comes of age in new york city battling through a troubled youth and a broken relationship with her mother she struggles to find peace and discover the secret of what happened to her father\n",
            "categories: ['\"Drama\"']\n",
            "\n",
            "index: 3882\n",
            "title: Shake, Rattle & Roll 13\n",
            "summary:  an old man lando  has buried something under his house when he is finished he encounters a group of white people the chieftain  demands lando to give back something that belongs to them which he refuses angered he and his tribesmen savagely killed him bikbok  moved to an isolated town with his blind mother isay  his baby brother and his discontented stepfather allan  to survive poverty where allan can take charge at the farm after his uncle lando died earlier the next day allan finds something under the house where he encounters an object that was buried by lando earlier which reveals to be a crystal at night bikbok watches outside and noticed the white creatures watching him the next day allans cousin pey  takes isay allan and bikbok to aling epang  to cure their baby after they leave when bikbok began to collect some water he saw a group of sparks and decide to follow it he stops by where he finds a waterfall and began venturing it when he plays at the waterfall he notices the same creatures earlier are watching him the chieftain orders his tribe to catch him as bikbok runs he attempts to escape but the creatures cornered him the chieftain tells him to give back something which it was stolen but bikbok assures that he and his family didnt steal anything the chieftain tells him that if he didnt return it otherwise in the third day at night when the new moon arrives he and his family will be in danger bikbok runs to aling epang for help and tells her on what he saw epang realizes the white creatures were the tamawos a group of fairy people who were creatures and tribal warriors who always take away people even children after bikbok tells her on what they have steal epang tells him that he need to find out what they have stolen because the tamawos will never stop until it was returned meanwhile pey was killed by the tamawos when he encountered them at the forest at night bikbok and his family were attacked by a group of tamawos and allan was wounded from their attack after epang cured his foot bikbok tries to tell him his story but allan distrusts him allan walks to the forest and tried to find pey where he finds his mutilated body horrified and grieved they decide to leave when bikbok enters allans room he finds the crystal that held a baby realizing it is the object that the tamawos were looking the next day allan decide to avenge pey to the people who killed him where the ranch owner  began blaming him on the incident out of anger allan begrudgingly leave he returns to the house driven insane and decide to leave where he find the egg gone outraged he demands them of the egg when isay tell bikbok that he steal it allan threatens bikbok but isay hits him to protect her son when allan threatens isay she urges bikbok to escape he grabs the egg and run off but allan chases after him meanwhile the tamawos capture isay and the baby bikbok tried to return the egg but allan find him and attempt to grab the egg after some struggling allan throws the egg breaking it where the tamawos notice this after allan runs off the tamawos arrive and see their baby had died which enrages them meanwhile at the cave isay finds her baby when the tamawos began to take them allan arrives at the cave and fights the tamawos to save her they began to escape but the tamawos arrive and cornered them they began attacking allan as he begs for mercy but the chieftain refuses for committing everything he had done as the tribe kills him when the tamawos began to take isay bikbok runs to the tamawos and begs them to takes him instead for their baby before bikbok bids farewell to his mother isay began crying in anguish before epang arrives and they helplessly watches him taken away by the tamawos  best friends lucy  and shane  have their camping in a remote province for their report along with the other students at night shane is at gate of the lighthouse with lucys exboyfriend bryan  and began talking to him about lucys promise to him she wants to go inside the lighthouse but bryan refuses her to get in assuring it is restricted lucy arrives and shane convinces her to join at the lighthouse when lucy reluctantly agreed the girls enter and began venturing the lighthouse while bryan was watching at the lighthouse andoy  who was guarding the lighthouse arrives when the girls reach the top of the lighthouse and enjoy the view andoy warns them to go down but lucy and shane doesnt believe him when the girls refuses andoys warning the lighthouse was on andoy runs to the lighthouse and tries to get them at the top the girls each saw two ghosts horrified they attempt to leave as andoy arrive startling them and nearly fell at the lighthouse before he catches them when he attempt to pull them up the two ghosts are walking towards them causing the girls and andoy to fell down the lighthouse lucy and shane are in critical condition but they both survive shane gets out of her room to see lucy shane arrives at lucys room before their mothers angelie   beth  have their rivalry with each other before the girls leave the ghosts from the lighthouse began to follow them lucy began to question her mother on why she has hatred towards beth until she tells her that beth has a relationship with her husband norman  and tells her to stay away from shane afterwards the ghosts began tormenting lucy  shane to break their friendship at school the girls began to quarrel each other over their families after the ghosts torments the girls their tensions grew further when shane had her hand burned with a gas burner during chemistry class and lucy mysteriously kills a girl who had been bullying her meanwhile the parents problem grew further shane caught her mother talking to norman where his wife scolds and force him to leave which devastates her and lucy shane tries to call lucy and tried to talk to her on the incident at the lighthouse earlier but lucy refuses suddenly the ghosts appear and continue tormenting them the next day lucy caught shane whom bryan hugged her which causes to break their friendship meanwhile norman appears and tries to take beth with him but she tells him to leave outraged he tried to grab her but shane injures norman by the ghosts control during class discussion bryan tells the story about the lighthouse in the spanish era before it was constructed at the site where the two rival witches rowana  cornelia died in 1879 rowana  attempts to apprehend cornelia  but her family died further until she realized that cornelia killed them rowana decide to avenge her family by killing cornelias family in a voodoo the witches encounter each other and began to fight with their spells during their fight cornelia summons a lightning storm killing rowana and herself after the lighthouse was built people were omitted to enter the lighthouse because every year during their death anniversary their ghosts will be awakened and began to tempt  victimize two people who entered the lighthouse to relive their rivalry shane overhears this and began to leave meanwhile at the hospital norman is in a medical condition until lucy realizes this and leave the hospital as well she arrive at shanes house and began to attack beth shane arrive at the house and finds her mother near death she finds lucy and began to fight when shane began to kill lucy angelie arrives and knocks shane unconscious she began to help her daughter but she disappeared along with shane the girls are at the lighthouse and the witches souls possess them the girls face each other and continue their fight after they struggle the girls consciousness revoke from their trance they began to apologize each other and promised that they will never be apart thus reliving their friendship but when rowana and cornelias souls were still fighting lucy  shane were killed in the lighthouse the next six months norman and angelie make out each other afterwards norman returns to beth who gives birth to twins in the ultrasound the twins revealed to be the reincarnation of lucy and shane  during the wrath of ondoy cynthia   her family began to leave when their house and their factory was flooded from the typhoon after cynthia and her husband mar s anniversary plans were ruined she began to have labor until mar takes her to the hospital when beginning to have labor in the next day the news report in marikina shows that the youth workers died at the factory after the typhoon stopped the next year cynthia and mar move to a condominium and they were expecting to have another baby after their baby died from miscarriage earlier after working at their new plastic factory mars brother nante  began to bring cynthia back to the condominium to cook for dinner before they left when it rained cynthia became aquaphobic during the typhoon at the parking lot cynthia leaves nante and returns to the condominium while nante was at the parking lot water began to pour out of his car he attempts to escape but more water began flooding around his car and drowns him after hearing his death the police began questioning the family about nantes death by drowning as cynthia was sleeping she suffered a nightmare which involve nantes body floating in the coffin before she wakes up the next day cynthia met a wealthy couple buying for an old factory and she began to tour the place when touring the man find the warehouse locked but cynthia decides to tour more about the place later after cynthia collects her allowance she encounters an old woman  who returns the donation and gives her the warning until a guard forces her to leave which cynthia was horrified before she collapses after she was recovered at the hospital she notices the children drawing an eye while singing before she returns to the condominium cynthia suffered her nightmare again and it involves mar she woke up and mar was nearly drowned while sleeping after mar arrives at the apartment cynthia began to tell him on her nightmare and the tragedy from the typhoon earlier which mar disbelieves at night cynthia mar his mother maritess  and their maid dina  arrive at the factory with a priest to bless it after the priest left the old woman from the bank is watching her after cynthia have a baby she notice the old lady talking to dina before leaving cynthia began to question dina on what the old lady said dina replies what the lady said and remembered what happened to her father earlier which she didnt save him from the house fire revealing the dead will never rest when nobody saves them meanwhile mar who was returning to the condominium was killed when he was drowned in an elevator that he is riding after cynthia escape from her flooding bathroom she encountered a group of ghosts horrified she runs and attempt to escape to an elevator where she finds mars dead body as cynthia mourns to his death she began to give birth to her baby at the hospital after her babys birth both cynthia and maritess became guilty about the youth workers who died during the typhoon earlier it is revealed that cynthia  her family were responsible for the tragedy they have caused earlier they lock the youth workers in the warehouse at the factory after their shift before the arrival of the typhoon and the family began to leave they beg the family for help until they were killed from the typhoon their spirits began to haunt them by killing each of the family members involving water meanwhile maritess began to leave the hospital before she notice the children still standing in the middle of the road she was killed when a truck of mineral water hits her after began selling their new factory cynthia began to give the donation back to the old woman but the lady refuses because her grandchildren have been working to help her grandmother the ladys grandchildren were among the youth workers who died from the typhoon earlier cynthia begs the lady to accept it so that she could leave at peace with her child which the old lady accepts before leaving cynthia returns to the factory  enters the warehouse to pay respects to the deceased youth workers but suddenly she hear the children singing and began raining the water floods around cynthia in the warehouse as the doors were closed and locked where the drowned ghosts are in there the last scene shows the glimpse of the ghosts\n",
            "categories: ['\"Thriller\",  \"Drama\",  \"Horror\"']\n",
            "\n",
            "index: 4999\n",
            "title: Artists and Models\n",
            "summary: rick todd  is a struggling painter and smoothtalking ladies man his goofy young roommate eugene fullstack  is an aspiring childrens author who has a passion for comic books especially those of the mysterious and sexy bat lady however each night eugene has horrific screaming nightmares inspired by those ultraviolent comics which he describes aloud in his sleep and which are about the bizarre birdlike superhero vincent the vulture who is according to eugenes nocturnal babblings the defender of truth and liberty and a member of the audubon society and is halfboy halfman halfbird with feathers growing out of every pore and a tail full of jet propulsion also known as vultureman or more simply the vulture the golden helmetmasked hero with his stubby winglike arms and talonlike hands and feet soars through space from his homogenized space station orbiting the milky way to battle his shapely but sadistic purpleeyed archenemy zuba the magnificent who hates vincent because shes allergic to his feathers and who enjoys blasting big oooozing holes into his highly resilient flying form  with her atomic pivot gun a neighbor in their apartment building abigail parker  is a professional artist who works for a new york comic book company called murdock publishing and is the creator of the bat lady her energetic horoscopeobsessed roommate is bessie sparrowbush  who is secretary to her publisher mr murdock  and abigails model for the flying batmasked superheroine bessie develops a crush on eugene who is unaware that she is his beloved bat lady in the flesh abigail becomes frustrated at work at the increasingly lurid and bloodthirsty stories the moneyhungry murdock demands and quits to become an anticomics activist dragging eugene into her crusade as an example of how trashy comic books can warp impressionable minds at the same time that rick gets a job with the company after pitching the adventures of vincent the vulture from eugenes dreams he attains success at his new job but after falling for abigail he keeps his work a secret from both her and eugene unbeknownst to all of them eugenes dreams also contain the real life topsecret rocket formula x34 minus 5r1 plus 6x36 that rick publishes in his stories with spies all around them they manage to entertain at the annual artists and models ball and capture the enemy preserving national security\n",
            "categories: ['\"Comedy\"']\n",
            "\n",
            "index: 1661\n",
            "title: Douchebag\n",
            "summary: the film is a road movie following the journey of sam nussbaum his fiancee steph and sams younger brother tom an aspiring artist to los angeles for sam and stephs wedding along the way they try to find toms fifth grade girlfriend\n",
            "categories: ['\"Drama\",  \"Comedy\",  \"Indie\"']\n",
            "\n",
            "index: 1662\n",
            "title: Seven Days\n",
            "summary: yoo jiyeon  is a prominent lawyer who has yet to lose a case yoo jiyeon then takes part in her daughters field day during a race involving the parents yoo jiyeons daughter disappears later in the day yoo jiyeon receives a phone call from the man who abducted her daughter the man makes it clear that he is not interested in her money rather he tells her that the only way she will ever see her daughter again is to defend a five time convicted felon who is appealing his conviction for rape and murder jiyeon has only seven days before his trial ends\n",
            "categories: ['\"Thriller\",  \"Drama\",  \"World cinema\"']\n",
            "\n",
            "index: 1663\n",
            "title: The Mother of Invention\n",
            "summary: the film follows vincent dooly  an aspiring inventor who dreams of winning the thomas alva edison award for young inventors  each year he enters and each year he humiliates himself with an invention that malfunctions in one way or another a documentary crew follows vincent in the last year that he is eligible to compete for the award at the same time following martin wooderson  a smug wunderkind with a long history of winning the award with dull but marketable inventions through the months leading up to the eddys vincent mentions  an invention he is working on that he is sure will change his losing streak but refuses to reveal more we meet vincents best friend gunter  his endlessly supportive mother  his tweakedout father  the object of his affection  and his hero a surly junkyard worker  as the story moves along we see vincents attempt at perfecting his many inventions and see him emotionally prepare for his last chance to win the coveted award while attempting to win the heart of jenny  a waitress at the local diner he frequents the film culminates at the award ceremony where vincent and martin unveil their final inventions and vie for the prize httpwwwimdbcomtitlett1274589plotsummary\n",
            "categories: ['\"Mockumentary\"']\n",
            "\n",
            "index: 1664\n",
            "title: An Inconvenient Truth...Or Convenient Fiction?\n",
            "summary: the fiftyminute movie was described as a pointbypoint powerpoint rebuttalcite newsurlin a filmdom premiere a foe for gorelastjessedatenew york timesaccessdatenyt\n",
            "categories: ['\"Documentary\"']\n",
            "\n",
            "index: 1665\n",
            "title: The Night of Nights\n",
            "summary: dan ofarrell pat obrien  was is a brilliant broadway theater playwright actor and producer who has left the business when he was younger he and his partner barry keithtrimble  were preparing for the opening night of ofarells play laughter by getting drunk when it was time to perform they were so intoxicated they ended up brawling on stage and fell into the orchestra pit the two left the theater and continued drinking until they learn that they have been suspended at the same time ofarrell learns that his wife actress alyce martelle is pregenant and has left him for ruining her performance in laughter as toni despondent he in left the business and went into seclusion years later his daughter marie  locates him and inspires him to return to broadway he decides to restage laughter with its original cast but with marie substituting for alyce in the part of toni hoping to make a glorious return with a show that would be a hit with critics and the public alike ofarrell enlists the aid of friends to embark on a fullfledged comeback\n",
            "categories: ['\"Drama\"']\n",
            "\n",
            "index: 1666\n",
            "title: The Girl on a Motorcycle\n",
            "summary: newlymarried rebecca leaves her husbands alsatian bed on her prized motorbikesymbol of freedom and escapeto visit her lover daniel in heidelberg en route she indulges in psychedelic and erotic reveries as she relives her changing relationship with the two men before crashing into a truck at the films conclusion it is based on the novella la motocyclette by andr pieyre de mandiargues  in the medium to distant shots the rider was the british gp champion bill ivy wearing a blonde wig\n",
            "categories: ['\"Thriller\",  \"Sports\",  \"Biker Film\",  \"Erotic Drama\",  \"Indie\",  \"World cinema\",  \"Road movie\",  \"Action/Adventure\",  \"Drama\",  \"Action\"']\n",
            "\n",
            "index: 1667\n",
            "title: Puppet Master: Axis of Evil\n",
            "summary: the film begins at the bodega bay inn 1939 danny coogan  is making wooden chairs for a wedding reception for his uncle len  who owns the inn danny tells his uncle that if it was not for his limp he would be able to go to war along with his brother don  and tells his uncle that hes going to help andre toulon toulon is guest at the inn whose wife was killed by the nazis because they wanted a formula a formula that allows his puppets to come alive after escaping berlin to geneva toulon came to america to hide from the nazis as dannys heading over to toulons room he hears a gunshot and goes to see what happened two men dressed in black leaving toulons room push danny aside and as they leave he manages to get a glimpse at one of their faces he enters the room and finds toulon dead with a gun in his hand danny whom toulon showed his puppets to grabs them out of a wall panel and finds that all the puppets are still there along with unanimated six shooter and another puppet named ninja the next day danny goes to visit his mother elma  and his brother don don is being shipped off to war the following week meanwhile the two nazi assassins klaus  and max  are heading to a opera house in chinatown under orders from the boss where they meet a japanese saboteur named ozu  she tells them that shes under orders from her commander which are for her and the nazis to work together to take out an american bomb manufacturing plant destroying americas war efforts to obtain this goal it requires max to go undercover and pretend to be of american descent and work at the plant and has to get close to the girl who runs the plants office beth  who is coincidentally dannys girlfriend the next day after bringing the puppets to life danny walks into the plant to show them to beth and sees max there recognizing him as one of the hitmen he tries to warn beth away from him but she doesnt believe him after max leaves the plant danny follows him back to the opera house and uncovers their plan danny is seen by max and quickly leaves max breaks back into the plant to uncover dannys profile and sends klaus to dannys mothers place where elma and beth are planning a bon voyage party for don klaus shoots elma and kidnaps beth and also shoots don when he unexpectedly comes home danny comes home to find don bleeding to death and after telling him what happened thanks to toulons diary puts his brothers soul into ninjas body danny and the puppets head out to the opera house to get beth and prevent the bomb from exploding tunneler and leech woman kill ozus men and blade and pinhead kill klaus max badly hurts ninja but ninja with what little left of life he has buts ozus sword into his back killing him danny manages to save beth and blade disables the bomb but ozu has taken off with the puppets inside the bag leaving behind blade pinhead and ninja behind danny swears that ozu has a war coming to her\n",
            "categories: ['\"Cult\",  \"B-movie\",  \"Horror\",  \"Supernatural\"']\n",
            "\n",
            "index: 1668\n",
            "title: Deadly Outlaw: Rekka\n",
            "summary: after kunisada s yakuza leader and father figure is brutally murdered he and his best friend  go on a twoman mission to avenge his death killing other yakuza leaders leading to a final confrontation by the old mans killers\n",
            "categories: ['\"Crime Fiction\",  \"Japanese Movies\",  \"World cinema\",  \"Gangster Film\",  \"Action/Adventure\",  \"Drama\",  \"Crime Thriller\",  \"Action\"']\n",
            "\n",
            "index: 1669\n",
            "title: Raja Babu\n",
            "summary: raja babu govinda  is a poor orphan adopted by a wealthy village couple  he is a typical country bumpkin goodhearted but lacking in urban manners he falls for madhu  when he sees her photograph in a studio and chases her on his bike decorated with plastic flowers with his sidekick played by shakti kapoor taken in by his smart appearance and impressive talks she reciprocates his love but walks out on him with all villagers watching when she learns that he is no match to her urbane welleducated self it was particularly humilitating for his father as it happened in front of villagers who respected him highly the movies takes several twists with a typical bollywoodesque happy ending villains are nabbed by police but not before being beaten black and blue by the hero boy gets his girl and parents are reunited with their son\n",
            "categories: ['\"Romantic drama\",  \"Melodrama\",  \"Drama\"']\n",
            "\n",
            "index: 1670\n",
            "title: Pink Panic\n",
            "summary: the pink panther seeking nightly shelter from a storm comes upon a western frontier ghost town called dead dog and the one hotel in the town is haunted while trying to stay the night at the dead dog hotel the panther signs a guest book but the ink splatters his face he wipes into a chaircovering sheet which is indeed a nasty ghost because two menacing eyes appear and when pink opens a room he stumbles upon the chair and throws it downstairs because he thinks that the weird creature is an ordinary chair the ghost returns to the room and heads for the bathroom where pink takes a shower and just as he is about to attack him pink grabs the specter for a towel and throws him to the tub when pink panther gets ready for bed a skeleton crawls into the bed unnoticed and the two blow the candles simultaneously suddenly a dreadful scream and fighting knocks along with bone shatterings are heard pink understands that he place is haunted after a lengthy battle against the ghost and skeleton he is able to defeat them temporarily by hitting both with a stick the ghost dons a sixgun belt and pursues the panther into a wine cellar where the panther pickles the ghost in a wine keg the drunken ghost is then inflated like a balloon by the pink panther and burst becoming a group of little specters that join the skeleton in pursuing the pink panther in an old grandfather clock which breaks into pieces the resulting noise prompts the town sheriff to arrest the pink panther and his supernatural foes until sunrise causes ghosts skeleton sheriff and whole town to vanish\n",
            "categories: ['\"Short Film\",  \"Comedy film\",  \"Animation\"']\n",
            "\n",
            "index: 1671\n",
            "title: China Moon\n",
            "summary: the film opens as detectives kyle bodine  and lamar dickey  investigate a murder scene bodine tutors dickey in the ways of homicide investigations stressing that all murderers make stupid mistakes which is how they get caught at a local bar bodine propositions rachel munro  who blows him off rachel is married to wealthy banker rupert munro  back at home she gets drunk as she looks at a private investigators photos of rupert making love to one of his employees adele rupert is intimidating and emotionally abusive towards rachel who decides to give in to kyles advances and start an affair with him at one point the lovers row out on a lake at night kyle points out the large full moon and says that his mother called it a china moon because it looks like a giant china dish his mother thought a china moon made people do crazy things the couple go skinny dipping in the lake their affair quickly picks up steam and kyle urges rachel to divorce rupert soon after kyle and lamar are called to the munros on a domestic disturbance complaint they find rachel badly beaten rupert is callously arrogant dismissing his violence towards his wife as trivial kyle warns rupert to leave her alone later that night rachel drives to kyles trailer and fantasizes about killing rupert she explains that she has bought a 9mm gun she says that she could take a trip to miami drive back one night and kill him then she could return to her trip unseen using it as an alibi kyle tries to talk her down but she flees in a panic rachel arrives at a hotel in miami and the concierge hands her an envelope which contains the picture of a rental car and its keys later she leaves the hotel at night without noticing adele sitting in the lobby she gets in the rental car and drives back to her home meanwhile adele enters her hotel room instead of driving home rachel drives to kyles trailer and he agrees to drive her home to get her things he waits in the car as she packs a suitcase kyle does not see rupert returning home and when rupert encounters rachel in the act of leaving him he flies into a rage she gets her 9mm gun and shoots him twice in self defense she stops kyle from calling the police because she points out that she drove back from miami without checking out of her hotel just like her murder fantasy she knows she would look guilty and kyle agrees to help her cover her tracks using his skills as a homicide detective he helps her carefully clear the crime scene even removing the bullets from the wall spackling over the holes and painting them they dump ruperts body in the same lake where they first made love back at the house kyle turns on the humidifiers to erase any of his fingerprints rachel returns to the hotel in miami and has brunch by the pool the next morning when she returns home she sticks to kyles plan and calls ruperts bank ruperts secretary informs rachel that he has not been in to work and rachel reports him missing to the police kyle and lamar are assigned to the case during their interviews with rachel lamar is highly skeptical of her story pointing out all its inconsistencies as they shoot the breeze at rachels house lamar casually hypothesizes that rachel killed rupert with the help of one of her many boyfriends he tells kyle that rachel is well known for wrapping men around her finger and that with the millions she would inherit from rupert it was highly likely that she got one of her boyfriends to help her kill rupert and dispose of his body lamar starts to unnerve kyle who begins to doubt rachel is telling him the truth lamar gets a tip about a car being out at the lake on the night of the murder the police divers find ruperts body during the autopsy the coroner extracts a bullet from ruperts chest lamar takes the bullet and hands it to kyle saying that it looks like a 38 the detectives confirm that it is a 38 which is the caliber of gun that kyle carries during his first date with rachel she had inquired about the caliber of his gun back at the munro house kyle discovers the photos of rupert and adele in rachels wardrobe the crime scene technician discovers a bullet hole in the wall and the extracted bullet is also a 38 kyle is summoned to a meeting with his supervisor who suspends him pending an investigation in to his involvement with the case he orders kyle to surrender his pistol later that day lamar arrives at kyles trailer and asks him to come in for some more questioning the pistol he surrendered did not match the serial number on his service weapon sitting in the back seat of lamars car kyle fixates on a compass that sits on lamars dashboard after a second more forceful interrogation with his supervisor and lamar kyle returns home and reexamines the pictures he discovered at rachels he identifies lamars dashboard compass in the bottom of the frame of one of the pictures adele meets with lamar and he pays her for her part in the scheme after she shows him a ticket to prove that she is leaving town he promises to pay her the rest of her share once he has received his cut kyle sneaks into rachels house and confronts her about the scheme she confesses that rupert was going to leave her with nothing and that lamar had concocted the scheme to make sure she inherited all of ruperts fortune she swears that despite the fact that lamar had designated kyle as the fall guy she had fallen in love with him kyle orders her to set up a meeting with lamar at the bar where they met at the bar kyle confronts lamar he confirms that lamar had switched out the 9mm bullet for a 38 during the coroner inquest he asks lamar where his service revolver is and lamar says it is in his car kyle forces lamar out to his car at gunpoint to retrieve the 38 the bartender sees kyles gun at lamars back and calls the police they arrive as kyle is searching for his pistol underneath the drivers seat in lamars car lamar calls out to the police that kyle has a gun and they open fire killing kyle a distraught rachel runs over to kyle as he lays dying she picks up the 38 and kills lamar\n",
            "categories: ['\"Thriller\",  \"Mystery\",  \"Erotic thriller\",  \"Psychological thriller\",  \"Neo-noir\"']\n",
            "\n",
            "index: 1672\n",
            "title: A Feather in Her Hat\n",
            "summary: in 1925 london middleaged widowed shopkeeper clarissa phelps  pities genteel but homeless drunkard captain randolph courtney  and takes him in when courtney corrects the lowerclass accent and grammar of her son richard a germ of an idea is born richard benefits from courtneys tutelage as he grows up ten years later on richards twentyfirst birthday clarissa makes a startling announcement she is not his mother but was merely hired to raise him for his upperclass parents she gives him a bankbook with a balance of 1000 as arranged with his real mother and asks him to move out on his own richard  and courtney are both stunned emily judson  with whom richard has grown up is distressed as well she had hoped to marry him but now feels he is out of her reach from clarissas private papers and what she had said courtney guesses that richards mother is julia trent anders  a former star actress wouldbe playwright richard seeking to get to know her becomes a lodger in her mansion where he also meets her absentminded scientist husband paul  and her beautiful stepdaughter pauline  richard and pauline are attracted to each other much to the annoyance of rival suitor leo cartwright  pauline becomes aware of emilys prior claim however and desists when julia discovers that her tenant has written a play  she introduces him to her friend producer sir elroyd joyce  joyce reads his play as a favor to julia however while he sees promise in richards work it would be too expensive for him to produce when clarissa finds out she sells her shop and uses most of the proceeds to secretly finance it without richards knowledge she and courtney proudly attend the premiere of son of sixpence the play is a success but the experience is too much for clarissa already in very bad health on her deathbed she admits to richard that she is actually his mother after all emily admitting defeat concedes richard to pauline\n",
            "categories: ['\"Melodrama\",  \"Drama\"']\n",
            "\n",
            "index: 1673\n",
            "title: Rumor Has It...\n",
            "summary: in 1997 sarah huttinger an obituary and wedding announcement writer for the new york times travels to pasadena for her sister annies wedding accompanied by her fianc jeff daly at a prewedding party sarah learns from her grandmother katharine that her mother jocelyn ran off to cabo san lucas to spend time with her prep school classmate beau burroughs the week before her wedding to sarahs father earl jeff points out sarahs parents were married just short of nine months before her birth leading her to wonder if beau might really be her biological father sarah also discovers her grandmother may have been the inspiration for mrs robinson an infamous character in the novel the graduate after the wedding determined to find out more about beau and her mothers past sarah decides to fly to san francisco where beau now a highly successful and very wealthy silicon valley internet wizard is addressing a seminar she meets him and he admits to the affair but assures sarah he couldnt be her father because he suffered blunt testicular trauma while playing in a high school soccer game and as a result is sterile the two go out for drinks and the following morning sarah awakens in beaus bed in his half moon bay home although guiltstricken by her behavior sarah allows beau to convince her to be his date at a charity ball where she meets beaus son blake beau explains his wife wanted a biological child and was artificially inseminated to become pregnant mollified sarah kisses beau and is caught by jeff who has returned to california to find her following an ensuing argument jeff leaves her dejected sarah returns to visit katharine who flies into a rage when she learns beau has slept with her granddaughter the two learn annie suffered an anxiety attack while flying to her honeymoon and wants to talk to sarah sarah tells her sister about the relationship three generations of richelieu women have had with beau she reassures annie she truly is in love with her husband scott and in doing so realizes shes ready to marry jeff its also revealed that earl was the one who caused beau his testicular trauma by accident this gives beau some actual nervousness being around him but brings katharine great joy and pleasure about her soninlaw earl reveals to sarah he always knew about jocelyn and beaus affair despite beau being a fling for her jocelyn returned to earl because she loved him and he was someone with whom she could build a life on the night she returned sarah was conceived this explained the date difference between her birthday and her parents wedding determined to win jeff back sarah returns to new york city and tells her fiance about her feelings they reconcile on the condition if they ever have a daughter she wont be allowed anywhere near beau the film ends with sarah and jeffs wedding\n",
            "categories: ['\"Romantic comedy\",  \"Romance Film\",  \"Screwball comedy\",  \"Drama\",  \"Comedy\"']\n",
            "\n",
            "[3396 3882 4999 1661 1662 1663 1664 1665 1666 1667 1668 1669 1670 1671\n",
            " 1672 1673]\n"
          ]
        }
      ],
      "source": [
        "from sklearn.metrics.pairwise import linear_kernel\n",
        "\n",
        "vectorizer = TfidfVectorizer(decode_error='ignore', max_df=2, ngram_range=(5, 5))\n",
        "corpus_tf_idf_plain = vectorizer.fit_transform(corpus)\n",
        "\n",
        "def content_recommender(idx, max_recommendations = 15):\n",
        "    cosine_sim = linear_kernel(corpus_tf_idf_plain[idx:idx+1], corpus_tf_idf_plain).flatten()\n",
        "    related = cosine_sim.argsort()[:-(max_recommendations + 2):-1]\n",
        "    for movie in related:\n",
        "        print(\"index:\", movie)\n",
        "        print(\"title:\",  titles[movie][0])\n",
        "        print(\"summary:\", summaries[movie][0])\n",
        "        print(\"categories:\", categories[movie])\n",
        "        print(\"\")\n",
        "    return related\n",
        "\n",
        "def unique_movie_recommendations(idxs):\n",
        "    content_recommender_list = np.array(idxs)\n",
        "    for idx in idxs:\n",
        "        content_recommender_list = np.concatenate([content_recommender_list, content_recommender(idx)])\n",
        "    movies = []\n",
        "    for movie in content_recommender_list:\n",
        "        if movie not in movies:\n",
        "            movies.append(movie)\n",
        "    return len(movies)\n",
        "\n",
        "# print(content_recommender(0))\n",
        "print(content_recommender(3396))\n",
        "# print(content_recommender(2629))\n",
        "# print(content_recommender(3181))\n",
        "\n",
        "# unique_movie_recommendations([0, 3396, 2629, 3181])"
      ]
    },
    {
      "cell_type": "markdown",
      "metadata": {
        "id": "8IvHkTUHyu78"
      },
      "source": [
        "## Βελτιστοποίηση του TfidfVectorizer\n",
        "\n",
        "Αφού υλοποιήσετε τη συνάρτηση `content_recommender` χρησιμοποιήστε την για να βελτιστοποιήσετε την `TfidfVectorizer`. Συγκεκριμένα, αρχικά μπορείτε να δείτε τι επιστρέφει το σύστημα για τυχαίες ταινίες-στόχους και για ένα μικρό `max_recommendations` (2 ή 3). Αν σε κάποιες ταινίες το σύστημα μοιάζει να επιστρέφει σημασιολογικά κοντινές ταινίες σημειώστε το `ID` τους. Δοκιμάστε στη συνέχεια να βελτιστοποιήσετε την `TfidfVectorizer` για τα συγκεκριμένα `ID` ώστε να επιστρέφονται σημασιολογικά κοντινές ταινίες για μεγαλύτερο αριθμό `max_recommendations`. Παράλληλα, όσο βελτιστοποιείτε την `TfidfVectorizer`, θα πρέπει να λαμβάνετε καλές συστάσεις για μεγαλύτερο αριθμό τυχαίων ταινιών. \n",
        "\n",
        "Ταυτόχρονα, μια αντίρροπη κατά κάποιο τρόπο κατεύθυνση της βελτιστοποίησης είναι να χρησιμοποιείτε τις παραμέτρους του `TfidfVectorizer` έτσι ώστε να μειώνονται οι διαστάσεις του Vector Space Model μέχρι το σημείο που θα αρχίσει να εμφανίζονται επιπτώσεις στην ποιότητα των συστάσεων. \n",
        "\n",
        "\n"
      ]
    },
    {
      "cell_type": "markdown",
      "metadata": {},
      "source": []
    },
    {
      "cell_type": "markdown",
      "metadata": {
        "id": "PSQ2tCs_hbaH"
      },
      "source": [
        "## Βαθιά μάθηση: δημιουργία corpora με χρήση word emmbeddings\n",
        "\n",
        "Η προσέγγιση της κατασκευής μόνο μέσω tfidf του συστήματος συστάσεων έχει διάφορα μειονεκτήματα. Θα μας ενδιέφερε λοιπόν να δούμε αν μπορούμε να χρησιμοποιήσουμε για τις λέξεις **εμφυτεύματα (embeddings)**, δηλαδή τις πυκνές διανυσματικές αναπαραστάσεις για τις λέξεις που μας δίνει το μοντέλο **Word2Vec**\n",
        "\n",
        "Ωστόσο, το dataset της κάθε ομάδας είναι πολύ μικρό για να εξάγουμε τα δικά μας word embeddings (και να είναι καλά). Για το λόγο αυτό θα χρησιμοποιήσουμε τη μεθοδολογία της Βαθιάς Μάθησης που είναι η **Μεταφορά Μάθησης (Transfer Learning).**.\n",
        "\n",
        "Στη μεταφορά μάθησης ουσιαστικά μεταφέρουμε τη γνώση που έχει αποκτήσει ένα ήδη εκπαιδευμένο (και κατά κανόνα πολύ μεγάλο) σύστημα. Η μεταφορά γίνεται διαμέσου των τιμών των βαρών που έχει προσδιορίσει μετά το πέρας της εκπαίδευσης.\n",
        "\n",
        "Στην περίπτωσή μας, δεν μας ενδιαφέρουν τόσο τα ίδια τα βάρη των μοντέλων από τα οποία θα κάνουμε μεταφορά μάθησης. Κάτι τέτοιο θα μας ενδιέφερε αν π.χ. θέλαμε να συνεχίσουμε την εκπαίδευση στα δικά μας κείμενα. Μας ενδιαφέρουν όμως τα ίδια τα εμφυτεύματα, δηλαδή τα embeddings (διανύσματα διαστάσεων $m$) που έχει μάθει το νευρωνικό για το λεξιλόγιο του (vocabulary). To vocabulary σε τέτοια μεγάλα νευρωνικά θα είναι πιθανότατα υπερσύνολο του δικού μας."
      ]
    },
    {
      "cell_type": "markdown",
      "metadata": {
        "id": "6UFGxnb9iknm"
      },
      "source": [
        "### Μεταφορά μάθησης εμφυτευμάτων\n",
        "\n"
      ]
    },
    {
      "cell_type": "markdown",
      "metadata": {
        "id": "G3Z28edwj4wF"
      },
      "source": [
        "#### Εμφυτεύματα του Gensim-data\n",
        "Το Gensim περιλαμβάνει αρκετά προεκπαιδευμένα μοντέλα εμφυτευμάτων Word2Vec. Με το επόμενο κελί παίρνουμε τη λίστα τους."
      ]
    },
    {
      "cell_type": "code",
      "execution_count": 9,
      "metadata": {
        "id": "UX9ZkHSvi3Mi"
      },
      "outputs": [
        {
          "name": "stdout",
          "output_type": "stream",
          "text": [
            "['fasttext-wiki-news-subwords-300', 'conceptnet-numberbatch-17-06-300', 'word2vec-ruscorpora-300', 'word2vec-google-news-300', 'glove-wiki-gigaword-50', 'glove-wiki-gigaword-100', 'glove-wiki-gigaword-200', 'glove-wiki-gigaword-300', 'glove-twitter-25', 'glove-twitter-50', 'glove-twitter-100', 'glove-twitter-200', '__testing_word2vec-matrix-synopsis']\n"
          ]
        }
      ],
      "source": [
        "import gensim.downloader\n",
        "print(list(gensim.downloader.info()['models'].keys()))"
      ]
    },
    {
      "cell_type": "markdown",
      "metadata": {
        "id": "mS0XEVWUi_0e"
      },
      "source": [
        "Τα μοντέλα αυτά βρίσκονται στο [αποθετήριο Gensim-data](https://github.com/RaRe-Technologies/gensim-data) όπου μπορείτε να βρείτε και την τεκμηρίωσή τους. Η φόρτωση των μοντέλων αυτών γίνεται με τη συνάρτηση `gensim.downloader.load`."
      ]
    },
    {
      "cell_type": "markdown",
      "metadata": {
        "id": "IfNs5fMAkADF"
      },
      "source": [
        "#### Άλλα εμφυτεύμαατα\n",
        "Μπορείτε να βρείτε προεκπαιδευμένα εμφυτεύματα και από πηγές εκτός του Gensim. Για παράδειγμα:\n",
        "\n",
        "- [Google News dataset](https://code.google.com/archive/p/word2vec/). Πρόκειται για προ-εκπαιδευμένα διανύσματα που έχουν εκπαιδευτεί σε μέρος του συνόλου δεδομένων Google News (περίπου 100 δισεκατομμύρια λέξεις). Το μοντέλο περιέχει διανύσματα 300 διαστάσεων για 3 εκατομμύρια λέξεις και φράσεις.\n",
        "- [Amazon BlazingText](https://docs.aws.amazon.com/sagemaker/latest/dg/blazingtext.html). Το BlazingText δεν είναι μόνο προεκπαιδευμένα εμφυτεύματα αλλα και βελτιστοποιημένες υλοποιήσεις των αλγορίθμων Word2vec για την επεξεργασία κειμένου. Προυπόθεση είναι να δουλέψει κανείς στο SageMaker.\n",
        "\n",
        "Οι διαδικασίες φόρτωσης embeddings από εξωτερικά δεδομένα μπορεί να είναι ελαφρά διαφορετικές από αυτή του Gensim.\n",
        "\n"
      ]
    },
    {
      "cell_type": "markdown",
      "metadata": {
        "id": "qkkZE41d_DjX"
      },
      "source": [
        "#### Παρατηρήσεις\n",
        "\n",
        "*   Επαναλαμβάνουμε ότι στην εργασία αυτή δεν μας ενδιαφέρουν τα ίδια τα μοντέλα αλλά το να μπορούμε για μία λέξη του λεξιλογίου μας να μπορούμε να βρούμε το embedding (διάνυσμα) που της αντιστοιχεί στο εκάστοτε προεκπαιδευμένο μοντέλο. \n",
        "\n",
        "*   Επίσης, δεν θα χρησιμοποιήσουμε την `Phrases` για να βρούμε bigrams στο dataset μας όπως θα ήταν το ορθότερο, καθώς αυτό θα απαιτούσε την συνέχιση της εκπαίδευσης του μοντέλου σε νέο λεξιλόγιο με πολύ λίγα νέα δεδομένα.\n"
      ]
    },
    {
      "cell_type": "markdown",
      "metadata": {
        "id": "aF6bQOziqISL"
      },
      "source": [
        " ### Δημιουργία corpora βασισμένων στα εμφυτεύματα\n",
        "\n",
        "Για να μπορέσουμε να ενσωματώσουμε τη γνώση που υπάρχει στα προεκπαιδευμένα εμφυτεύματα στο δικό μας corpus θα προχωρήσουμε όπως περιγράφεται ακολούθως.\n",
        "\n",
        "Για κάθε περιγραφή ταινίας $d$, η οποία αποτελείται από τις $N_d$ λέξεις $w_i$, το  $tfidf$ της κάθε λέξης $w_i$ δίνεται από τη σχέση:\n",
        "\n",
        "$$ tfidf(w_i) = tf(w_i,d) \\cdot idf(w_i)$$\n",
        "\n",
        "Ταυτόχρονα, σε κάθε λέξη $w_i$ αντιστοιχεί ένα διάνυσμα $W2V(w_i)$ από το μοντέλο εμφυτευμάτων που έχουμε εισάγει. Τα διανύσματα εμφυτευμάτων $W2V$ θα έχουν διάσταση $m$, ανάλογα το μοντέλο. \n",
        "\n",
        "Για κάθε ταινία d, μπορούμε να δημιουργήσουμε μια διανυσματική αναπαράσταση $W2V(d)$ διαστάσεων $m$ χρησιμοποιώντας το $tfidf(w_i)$ ως συντελεστή βαρύτητας για κάθε εμφύτευμα $W2V(w_i)$:\n",
        "\n",
        "$$ W2V(d) = \\frac{tfidf(w_1)\\cdot W2V(w_i) + tfidf(w_2)\\cdot W2V(w_2) + \\dotsc  + tfidf(w_{N_{d}})\\cdot W2V(w_{N_{d}})}{tfidf(w_1)+tfidf(w_2)+ \\dotsc + tfidf(w_{N_{d}})}$$\n"
      ]
    },
    {
      "cell_type": "markdown",
      "metadata": {
        "id": "Umbd7mv__be8"
      },
      "source": [
        "#### build_tfw2v\n",
        "\n",
        "Υλοποιήστε μια συνάρτηση `build_tfw2v` με ορίσματα:\n",
        "- `corpus` που θα είναι το προεπεξεργασμένο dataset σας,\n",
        "- `vectors` που θα είναι το μοντέλο που θα σας δίνει τα διανύσματα των εμφυτεύσεων vectors, και \n",
        "- `embeddings_size` που θα είναι η διάσταση των εμφυτευμάτων $m$.\n",
        "\n",
        "H συνάρτηση αυτή θα επιστρέφει ένα νέο corpus που θα είναι ένας πίνακας 5000 (όσες οι ταινίες σας) x $m$ (το η διάσταση των εμφυτευμάτων). Ανάλογα ποιο μοντέλο χρησιμποιείτε για transfer learning ο πίνακας αυτός θα είναι διαφορετικός.\n",
        "\n",
        "Μπορείτε πλεόν να καλείτε την `content_recommender` με διαφορετικά corpora στο όρισμα `corpus_type`. Σημειώστε ότι στο TFidfVectorizer χρησιμοποιουμε τη σειριακή μορφή των numpy arrays και ίσως σας χρησιμεύσει η `sparse.csr_matrix()` από την Scipy."
      ]
    },
    {
      "cell_type": "markdown",
      "metadata": {
        "id": "NPVK7Z5c1p5F"
      },
      "source": [
        "## Ανάλυση αποτελεσμάτων\n",
        "\n",
        "### Σύστημα συστάσεων βασισμένο μόνο στο tfidf\n",
        "\n",
        "- Σε markdown περιγράψτε τι προεπεξεργασία κάνετε στα κείμενα και γιατί.\n",
        "\n",
        "- Περιγράψτε πως προχωρήσατε στις επιλογές σας για τη βελτιστοποίηση της `TfidfVectorizer`. \n",
        "\n",
        "- [Cherry-picking:](https://www.wikiwand.com/en/Cherry_picking) Δώσετε παραδείγματα (IDs) από τη συλλογή σας που επιστρέφουν καλά αποτελέσματα μέχρι `max_recommendations` (τουλάχιστον 5) και σχολιάστε.\n",
        "\n",
        "- [Nir-picking:](https://www.merriam-webster.com/dictionary/nit-picking) Δώστε παραδείγματα (IDs) από τη συλλογή σας που επιστρέφουν κακά αποτελέσματα και σχολιάστε.\n",
        "\n",
        "- Ποια είναι συνολικά τα πλεονεκτήματα και μειονεκτήματα ενός recommender βασισμένου στο tfidf;"
      ]
    },
    {
      "cell_type": "markdown",
      "metadata": {
        "id": "zPBW9WH56I-y"
      },
      "source": [
        "### Σύγκριση και σχολιασμός με recommenders βασισμένων στο Word2Vec\n",
        "\n",
        "- Υλoποιήστε recommenders που βασίζονται σε μεταφορά μάθησης και εμφυτεύματα. Χρησιμοποιήστε παραδείγματα για να υποδείξετε δυνατά και αδύναμα σημεία τους.\n",
        "\n",
        "- Μπορείτε να σχολιάσετε τα recommenders που βασίζονται στο Word2Vec σε σχέση με το απλό μοντέλο tfidf, εξετάζοντας τις συστάσεις για ίδια ID.\n",
        "\n",
        "- Μπορείτε επίσης να εξετάσετε συγκριτικά τα Word2Vec recommenders μεταξύ τους και πάλι βασιζόμενοι σε παραδείγματα.\n",
        "\n",
        "- Οι παρατηρήσεις σας θα βασίζονται στην ανάλυση των ποιοτικών χαρακτηριστικών που είναι η σειρά και το σύνολο των συστάσεων. Ωστόσο, μπορείτε να συμπεριλάβετε και ποσοτικά χαρακτηριστικά όπως τους χρονους loading και συγκρότησης του corpus αλλά και της διαστατικότητας $m$.\n",
        "\n",
        "Χρησιμοποιήστε όποια μορφή reporting κρίνετε καταλληλότερη: κείμενο, πίνακες, διαγράμματα.\n"
      ]
    },
    {
      "cell_type": "markdown",
      "metadata": {
        "id": "4irg4K-IPSym"
      },
      "source": [
        "## Πρακτικό tip - persistence αντικειμένων με joblib.dump\n",
        "\n",
        "Καθώς στην δεύτερη εργασία καλείστε να δημιουργήσετε διάφορα corpora των οποίων η δημιουργία παίρνει χρόνο, υπάρχει ένας εύκολος τρόπος να αποθηκεύουμε μεταβλητές σε dump files και να τις διαβάζουμε απευθείας.\n",
        "\n",
        "H βιβλιοθήκη [joblib](https://pypi.python.org/pypi/joblib) της Python δίνει κάποιες εξαιρετικά χρήσιμες ιδιότητες στην ανάπτυξη κώδικα: pipelining, παραλληλισμό, caching και variable persistence. Τις τρεις πρώτες ιδιότητες τις είδαμε στην πρώτη άσκηση. Στην παρούσα άσκηση θα μας φανεί χρήσιμη η τέταρτη, το persistence των αντικειμένων. Συγκεκριμένα μπορούμε με:\n",
        "\n",
        "```python\n",
        "joblib.dump(my_object, 'my_object.pkl') \n",
        "```\n",
        "\n",
        "να αποθηκεύσουμε οποιοδήποτε αντικείμενο-μεταβλητή (εδώ το `my_object`) απευθείας πάνω στο filesystem ως αρχείο, το οποίο στη συνέχεια μπορούμε να ανακαλέσουμε ως εξής:\n",
        "\n",
        "```python\n",
        "my_object = joblib.load('my_object.pkl')\n",
        "```\n",
        "\n",
        "Μπορούμε έτσι να ανακαλέσουμε μεταβλητές ακόμα και αφού κλείσουμε και ξανανοίξουμε το notebook, χωρίς να χρειαστεί να ακολουθήσουμε ξανά όλα τα βήματα ένα - ένα για την παραγωγή τους, κάτι ιδιαίτερα χρήσιμο αν αυτή η διαδικασία είναι χρονοβόρα.\n",
        "\n",
        "Ας αποθηκεύσουμε το `corpus_tf_idf` και στη συνέχεια ας το ανακαλέσουμε."
      ]
    },
    {
      "cell_type": "code",
      "execution_count": 10,
      "metadata": {
        "id": "aESOPYQaPSyo",
        "scrolled": true
      },
      "outputs": [
        {
          "ename": "NameError",
          "evalue": "name 'corpus_tf_idf' is not defined",
          "output_type": "error",
          "traceback": [
            "\u001b[0;31m---------------------------------------------------------------------------\u001b[0m",
            "\u001b[0;31mNameError\u001b[0m                                 Traceback (most recent call last)",
            "\u001b[0;32m/var/folders/4j/5fqq9rss57766c95_09lxprc0000gp/T/ipykernel_1206/4227274936.py\u001b[0m in \u001b[0;36m<module>\u001b[0;34m\u001b[0m\n\u001b[1;32m      1\u001b[0m \u001b[0;32mimport\u001b[0m \u001b[0mjoblib\u001b[0m\u001b[0;34m\u001b[0m\u001b[0;34m\u001b[0m\u001b[0m\n\u001b[1;32m      2\u001b[0m \u001b[0;34m\u001b[0m\u001b[0m\n\u001b[0;32m----> 3\u001b[0;31m \u001b[0mjoblib\u001b[0m\u001b[0;34m.\u001b[0m\u001b[0mdump\u001b[0m\u001b[0;34m(\u001b[0m\u001b[0mcorpus_tf_idf\u001b[0m\u001b[0;34m,\u001b[0m \u001b[0;34m'corpus_tf_idf.pkl'\u001b[0m\u001b[0;34m)\u001b[0m\u001b[0;34m\u001b[0m\u001b[0;34m\u001b[0m\u001b[0m\n\u001b[0m",
            "\u001b[0;31mNameError\u001b[0m: name 'corpus_tf_idf' is not defined"
          ]
        }
      ],
      "source": [
        "import joblib\n",
        "\n",
        "joblib.dump(corpus_tf_idf, 'corpus_tf_idf.pkl') "
      ]
    },
    {
      "cell_type": "markdown",
      "metadata": {
        "id": "7_rAEj5ZPSy1"
      },
      "source": [
        "\n",
        "\n",
        "Μπορείτε με ένα απλό `!ls` να δείτε ότι το αρχείο `corpus_tf_idf.pkl` υπάρχει στο filesystem σας (== persistence):"
      ]
    },
    {
      "cell_type": "code",
      "execution_count": null,
      "metadata": {
        "id": "ZhwXmTEIPSy3",
        "scrolled": true
      },
      "outputs": [],
      "source": [
        "!ls -lh"
      ]
    },
    {
      "cell_type": "markdown",
      "metadata": {
        "id": "cey5AbkO475S"
      },
      "source": [
        "και μπορούμε να τα διαβάσουμε με `joblib.load`"
      ]
    },
    {
      "cell_type": "code",
      "execution_count": null,
      "metadata": {
        "id": "DSJPTKY8PSyu"
      },
      "outputs": [],
      "source": [
        "corpus_tf_idf = joblib.load('corpus_tf_idf.pkl')"
      ]
    },
    {
      "cell_type": "markdown",
      "metadata": {
        "id": "zHOQtO83PSy9"
      },
      "source": [
        "# Εφαρμογή 2.  Τοπολογική και σημασιολογική απεικόνιση της ταινιών με χρήση SOM\n",
        "<img src=\"https://i.imgur.com/Z4FdurD.jpg\" width=\"60%\">"
      ]
    },
    {
      "cell_type": "markdown",
      "metadata": {
        "id": "UB_clmizPSy-"
      },
      "source": [
        "## Δημιουργία dataset\n",
        "Στη δεύτερη εφαρμογή θα βασιστούμε στις τοπολογικές ιδιότητες των Self Organizing Maps (SOM) για να φτιάξουμε ενά χάρτη (grid) δύο διαστάσεων όπου θα απεικονίζονται όλες οι ταινίες της συλλογής της ομάδας με τρόπο χωρικά συνεκτικό ως προς το περιεχόμενο και κυρίως το είδος τους (ο παραπάνω χάρτης είναι ενδεικτικός, δεν αντιστοιχεί στο dataset μας). \n",
        "\n",
        "Διαλέξτε για την αναπαράσταση των documents αυτήν που πιστεύετε απέδωσε καλύτερα στο πρώτα σκέλος της άσκησης. Έστω ότι αυτή είναι η `my_best_corpus`.\n",
        "\n",
        "Η έτοιμη συνάρτηση `build_final_set` θα ενώσει την αναπαράσταση που θα της δώσετε ως όρισμα `mycorpus` με τις binarized κατηγορίες `catbins` των ταινιών ως επιπλέον κολόνες (χαρακτηριστικά). Συνεπώς, κάθε ταινία αναπαρίσταται στο Vector Space Model από τα χαρακτηριστικά της αναπαράστασης `mycorpus` και τις κατηγορίες της.\n",
        "\n",
        "Τέλος, η συνάρτηση δέχεται ένα ορισμα για το πόσες ταινίες να επιστρέψει, με default τιμή όλες τις ταινίες (5000). Αυτό είναι χρήσιμο για να μπορείτε αν θέλετε να φτιάχνετε μικρότερα σύνολα δεδομένων ώστε να εκπαιδεύεται ταχύτερα το SOM. \n",
        "\n",
        "Θα τρέχουμε τη συνάρτηση με `final_set = build_final_set(my_best_corpus)`."
      ]
    },
    {
      "cell_type": "code",
      "execution_count": null,
      "metadata": {
        "id": "U-FDDOkQPSzA"
      },
      "outputs": [],
      "source": [
        "def build_final_set(mycorpus, doc_limit = 5000, tf_idf_only=False):\n",
        "    # convert sparse tf_idf to dense tf_idf representation\n",
        "    dense_tf_idf = mycorpus.toarray()[0:doc_limit,:]\n",
        "    if tf_idf_only:\n",
        "        # use only tf_idf\n",
        "        final_set = dense_tf_idf\n",
        "    else:\n",
        "        # append the binary categories features horizontaly to the (dense) tf_idf features\n",
        "        final_set = np.hstack((dense_tf_idf, catbins[0:doc_limit,:]))\n",
        "    # η somoclu θέλει δεδομ΄ένα σε float32\n",
        "    return np.array(final_set, dtype=np.float32)"
      ]
    },
    {
      "cell_type": "markdown",
      "metadata": {
        "id": "KjvPPENS_dYL"
      },
      "source": [
        "Στο επόμενο κελί, τυπώνουμε τις διαστάσεις του τελικού dataset μας. **Χωρίς βελτιστοποίηση του TFIDF** θα έχουμε περίπου 50.000 χαρακτηριστικά και ο θα είναι ανέφικτο να προχωρήσουμε στην εκπαίδευση του SOM."
      ]
    },
    {
      "cell_type": "code",
      "execution_count": null,
      "metadata": {
        "id": "fvEgNn-L-jEw"
      },
      "outputs": [],
      "source": [
        "final_set.shape"
      ]
    },
    {
      "cell_type": "markdown",
      "metadata": {
        "id": "8tikdip0PSzQ"
      },
      "source": [
        "## Εκπαίδευση χάρτη SOM\n",
        "\n",
        "Θα δουλέψουμε με τη βιβλιοθήκη SOM [\"Somoclu\"](http://somoclu.readthedocs.io/en/stable/index.html). Εισάγουμε τις somoclu και matplotlib και λέμε στη matplotlib να τυπώνει εντός του notebook (κι όχι σε pop up window)."
      ]
    },
    {
      "cell_type": "code",
      "execution_count": null,
      "metadata": {
        "id": "oX9rzxGSPSzR"
      },
      "outputs": [],
      "source": [
        "# import sompoclu, matplotlib\n",
        "import somoclu\n",
        "import matplotlib\n",
        "# we will plot inside the notebook and not in separate window\n",
        "%matplotlib inline"
      ]
    },
    {
      "cell_type": "markdown",
      "metadata": {
        "id": "EqBfn0ijPSzX"
      },
      "source": [
        "Καταρχάς διαβάστε το [function reference](http://somoclu.readthedocs.io/en/stable/reference.html) του somoclu. Θα δoυλέψουμε με χάρτη τύπου planar, παραλληλόγραμμου σχήματος νευρώνων με τυχαία αρχικοποίηση (όλα αυτά είναι default). Μπορείτε να δοκιμάσετε διάφορα μεγέθη χάρτη ωστόσο όσο ο αριθμός των νευρώνων μεγαλώνει, μεγαλώνει και ο χρόνος εκπαίδευσης. Για το training δεν χρειάζεται να ξεπεράσετε τα 100 epochs. Σε γενικές γραμμές μπορούμε να βασιστούμε στις default παραμέτρους μέχρι να έχουμε τη δυνατότητα να οπτικοποιήσουμε και να αναλύσουμε ποιοτικά τα αποτελέσματα. Ξεκινήστε με ένα χάρτη 10 x 10, 100 epochs training και ένα υποσύνολο των ταινιών (π.χ. 2000). Χρησιμοποιήστε την `time` για να έχετε μια εικόνα των χρόνων εκπαίδευσης. "
      ]
    },
    {
      "cell_type": "markdown",
      "metadata": {
        "id": "ntd2GE9SaHiS"
      },
      "source": [
        "\n",
        "## Best matching units\n",
        "\n",
        "Μετά από κάθε εκπαίδευση αποθηκεύστε σε μια μεταβλητή τα best matching units (bmus) για κάθε ταινία. Τα bmus μας δείχνουν σε ποιο νευρώνα ανήκει η κάθε ταινία. **Προσοχή: η σύμβαση των συντεταγμένων των νευρώνων στη Somoclu είναι (στήλη, γραμμή) δηλαδή το ανάποδο από την Python**. Με χρήση της [np.unique](https://docs.scipy.org/doc/numpy-1.13.0/reference/generated/numpy.unique.html) (μια πολύ χρήσιμη συνάρτηση στην άσκηση) αποθηκεύστε τα μοναδικά best matching units και τους δείκτες τους (indices) προς τις ταινίες. \n",
        "\n",
        "Σημειώστε ότι μπορεί να έχετε λιγότερα μοναδικά bmus από αριθμό νευρώνων γιατί μπορεί σε κάποιους νευρώνες να μην έχουν ανατεθεί ταινίες. Ως αριθμό νευρώνα θα θεωρήσουμε τον αριθμό γραμμής στον πίνακα μοναδικών bmus.\n"
      ]
    },
    {
      "cell_type": "markdown",
      "metadata": {
        "id": "grzqcyHyaKdg"
      },
      "source": [
        "\n",
        "## Ομαδοποίηση (clustering)\n",
        "\n",
        "Τυπικά, η ομαδοποίηση σε ένα χάρτη SOM προκύπτει από το unified distance matrix (U-matrix): για κάθε κόμβο υπολογίζεται η μέση απόστασή του από τους γειτονικούς κόμβους. Εάν χρησιμοποιηθεί μπλε χρώμα στις περιοχές του χάρτη όπου η τιμή αυτή είναι χαμηλή (μικρή απόσταση) και κόκκινο εκεί που η τιμή είναι υψηλή (μεγάλη απόσταση), τότε μπορούμε να πούμε ότι οι μπλε περιοχές αποτελούν clusters και οι κόκκινες αποτελούν σύνορα μεταξύ clusters.\n",
        "\n",
        "To somoclu δίνει την επιπρόσθετη δυνατότητα να κάνουμε ομαδοποίηση των νευρώνων χρησιμοποιώντας οποιονδήποτε αλγόριθμο ομαδοποίησης του scikit-learn. Στην άσκηση θα χρησιμοποιήσουμε τον k-Means. Για τον αρχικό σας χάρτη δοκιμάστε ένα k=20 ή 25. Οι δύο προσεγγίσεις ομαδοποίησης είναι διαφορετικές, οπότε περιμένουμε τα αποτελέσματα να είναι κοντά αλλά όχι τα ίδια.\n"
      ]
    },
    {
      "cell_type": "markdown",
      "metadata": {
        "id": "2nupuqcuaMe3"
      },
      "source": [
        "\n",
        "## Αποθήκευση του SOM\n",
        "\n",
        "Επειδή η αρχικοποίηση του SOM γίνεται τυχαία και το clustering είναι και αυτό στοχαστική διαδικασία, οι θέσεις και οι ετικέτες των νευρώνων και των clusters θα είναι διαφορετικές κάθε φορά που τρέχετε τον χάρτη, ακόμα και με τις ίδιες παραμέτρους. Για να αποθηκεύσετε ένα συγκεκριμένο som και clustering χρησιμοποιήστε και πάλι την `joblib`. Μετά την ανάκληση ενός SOM θυμηθείτε να ακολουθήσετε τη διαδικασία για τα bmus.\n"
      ]
    },
    {
      "cell_type": "markdown",
      "metadata": {
        "id": "ejX0Qs18aRHU"
      },
      "source": [
        "\n",
        "## Οπτικοποίηση U-matrix, clustering και μέγεθος clusters\n",
        "\n",
        "Για την εκτύπωση του U-matrix χρησιμοποιήστε τη `view_umatrix` με ορίσματα `bestmatches=True` και `figsize=(15, 15)` ή `figsize=(20, 20)`. Τα διαφορετικά χρώματα που εμφανίζονται στους κόμβους αντιπροσωπεύουν τα διαφορετικά clusters που προκύπτουν από τον k-Means. Μπορείτε να εμφανίσετε τη λεζάντα του U-matrix με το όρισμα `colorbar`. Μην τυπώνετε τις ετικέτες (labels) των δειγμάτων, είναι πολύ μεγάλος ο αριθμός τους.\n",
        "\n",
        "Για μια δεύτερη πιο ξεκάθαρη οπτικοποίηση του clustering τυπώστε απευθείας τη μεταβλητή `clusters`.\n",
        "\n",
        "Τέλος, χρησιμοποιώντας πάλι την `np.unique` (με διαφορετικό όρισμα) και την `np.argsort` (υπάρχουν και άλλοι τρόποι υλοποίησης) εκτυπώστε τις ετικέτες των clusters (αριθμοί από 0 έως k-1) και τον αριθμό των νευρώνων σε κάθε cluster, με φθίνουσα ή αύξουσα σειρά ως προς τον αριθμό των νευρώνων. Ουσιαστικά είναι ένα εργαλείο για να βρίσκετε εύκολα τα μεγάλα και μικρά clusters. \n",
        "\n",
        "Ακολουθεί ένα μη βελτιστοποιημένο παράδειγμα για τις τρεις προηγούμενες εξόδους:\n",
        "\n",
        "<img src=\"https://image.ibb.co/i0tsfR/umatrix_s.jpg\" width=\"35%\">\n",
        "<img src=\"https://image.ibb.co/nLgHEm/clusters.png\" width=\"35%\">\n",
        "\n"
      ]
    },
    {
      "cell_type": "markdown",
      "metadata": {
        "id": "fMO_KcQYaTv-"
      },
      "source": [
        "\n",
        "## Σημασιολογική ερμηνεία των clusters\n",
        "\n",
        "Προκειμένου να μελετήσουμε τις τοπολογικές ιδιότητες του SOM και το αν έχουν ενσωματώσει σημασιολογική πληροφορία για τις ταινίες διαμέσου της διανυσματικής αναπαράστασης του tf-idf, των εμφυτευμάτων και των κατηγοριών, χρειαζόμαστε ένα κριτήριο ποιοτικής επισκόπησης των clusters. \n",
        "\n",
        "Θα υλοποιήσουμε το εξής κριτήριο: Λαμβάνουμε όρισμα έναν αριθμό (ετικέτα) cluster. Για το cluster αυτό βρίσκουμε όλους τους νευρώνες που του έχουν ανατεθεί από τον k-Means. Για όλους τους νευρώνες αυτούς βρίσκουμε όλες τις ταινίες που τους έχουν ανατεθεί (για τις οποίες αποτελούν bmus). Για όλες αυτές τις ταινίες τυπώνουμε ταξινομημένη τη συνολική στατιστική όλων των ειδών (κατηγοριών) και τις συχνότητές τους. Αν το cluster διαθέτει καλή συνοχή και εξειδίκευση, θα πρέπει κάποιες κατηγορίες να έχουν σαφώς μεγαλύτερη συχνότητα από τις υπόλοιπες. Θα μπορούμε τότε να αναθέσουμε αυτήν/ές την/τις κατηγορία/ες ως ετικέτες κινηματογραφικού είδους στο cluster.\n",
        "\n",
        "Μπορείτε να υλοποιήσετε τη συνάρτηση αυτή όπως θέλετε. Μια πιθανή διαδικασία θα μπορούσε να είναι η ακόλουθη:\n",
        "\n",
        "1. Ορίζουμε συνάρτηση `print_categories_stats` που δέχεται ως είσοδο λίστα με ids ταινιών. Δημιουργούμε μια κενή λίστα συνολικών κατηγοριών. Στη συνέχεια, για κάθε ταινία επεξεργαζόμαστε το string `categories` ως εξής: δημιουργούμε μια λίστα διαχωρίζοντας το string κατάλληλα με την `split` και αφαιρούμε τα whitespaces μεταξύ ετικετών με την `strip`. Προσθέτουμε τη λίστα αυτή στη συνολική λίστα κατηγοριών με την `extend`. Τέλος χρησιμοποιούμε πάλι την `np.unique` για να μετρήσουμε συχνότητα μοναδικών ετικετών κατηγοριών και ταξινομούμε με την `np.argsort`. Τυπώνουμε τις κατηγορίες και τις συχνότητες εμφάνισης ταξινομημένα. Χρήσιμες μπορεί να σας φανούν και οι `np.ravel`, `np.nditer`, `np.array2string` και `zip`.\n",
        "\n",
        "2. Ορίζουμε τη βασική μας συνάρτηση `print_cluster_neurons_movies_report` που δέχεται ως όρισμα τον αριθμό ενός cluster. Με τη χρήση της `np.where` μπορούμε να βρούμε τις συντεταγμένες των bmus που αντιστοιχούν στο cluster και με την `column_stack` να φτιάξουμε έναν πίνακα bmus για το cluster. Προσοχή στη σειρά (στήλη - σειρά) στον πίνακα bmus. Για κάθε bmu αυτού του πίνακα ελέγχουμε αν υπάρχει στον πίνακα μοναδικών bmus που έχουμε υπολογίσει στην αρχή συνολικά και αν ναι προσθέτουμε το αντίστοιχο index του νευρώνα σε μια λίστα. Χρήσιμες μπορεί να είναι και οι `np.rollaxis`, `np.append`, `np.asscalar`. Επίσης πιθανώς να πρέπει να υλοποιήσετε ένα κριτήριο ομοιότητας μεταξύ ενός bmu και ενός μοναδικού bmu από τον αρχικό πίνακα bmus.\n",
        "\n",
        "3. Υλοποιούμε μια βοηθητική συνάρτηση `neuron_movies_report`. Λαμβάνει ένα σύνολο νευρώνων από την `print_cluster_neurons_movies_report` και μέσω της `indices` φτιάχνει μια λίστα με το σύνολο ταινιών που ανήκουν σε αυτούς τους νευρώνες. Στο τέλος καλεί με αυτή τη λίστα την `print_categories_stats` που τυπώνει τις στατιστικές των κατηγοριών.\n",
        "\n",
        "Μπορείτε βέβαια να προσθέσετε οποιαδήποτε επιπλέον έξοδο σας βοηθάει. Μια χρήσιμη έξοδος είναι πόσοι νευρώνες ανήκουν στο cluster και σε πόσους και ποιους από αυτούς έχουν ανατεθεί ταινίες.\n",
        "\n",
        "Θα επιτελούμε τη σημασιολογική ερμηνεία του χάρτη καλώντας την `print_cluster_neurons_movies_report` με τον αριθμός ενός cluster που μας ενδιαφέρει. \n",
        "\n",
        "Παράδειγμα εξόδου για ένα cluster (μη βελτιστοποιημένος χάρτης, ωστόσο βλέπετε ότι οι μεγάλες κατηγορίες έχουν σημασιολογική  συνάφεια):\n",
        "\n",
        "```\n",
        "Overall Cluster Genres stats:  \n",
        "[('\"Horror\"', 86), ('\"Science Fiction\"', 24), ('\"B-movie\"', 16), ('\"Monster movie\"', 10), ('\"Creature Film\"', 10), ('\"Indie\"', 9), ('\"Zombie Film\"', 9), ('\"Slasher\"', 8), ('\"World cinema\"', 8), ('\"Sci-Fi Horror\"', 7), ('\"Natural horror films\"', 6), ('\"Supernatural\"', 6), ('\"Thriller\"', 6), ('\"Cult\"', 5), ('\"Black-and-white\"', 5), ('\"Japanese Movies\"', 4), ('\"Short Film\"', 3), ('\"Drama\"', 3), ('\"Psychological thriller\"', 3), ('\"Crime Fiction\"', 3), ('\"Monster\"', 3), ('\"Comedy\"', 2), ('\"Western\"', 2), ('\"Horror Comedy\"', 2), ('\"Archaeology\"', 2), ('\"Alien Film\"', 2), ('\"Teen\"', 2), ('\"Mystery\"', 2), ('\"Adventure\"', 2), ('\"Comedy film\"', 2), ('\"Combat Films\"', 1), ('\"Chinese Movies\"', 1), ('\"Action/Adventure\"', 1), ('\"Gothic Film\"', 1), ('\"Costume drama\"', 1), ('\"Disaster\"', 1), ('\"Docudrama\"', 1), ('\"Film adaptation\"', 1), ('\"Film noir\"', 1), ('\"Parody\"', 1), ('\"Period piece\"', 1), ('\"Action\"', 1)]```\n",
        "   "
      ]
    },
    {
      "cell_type": "markdown",
      "metadata": {
        "id": "lq4QrImhaa7E"
      },
      "source": [
        "\n",
        "## Tips για το SOM και το clustering\n",
        "\n",
        "- Για την ομαδοποίηση ένα U-matrix καλό είναι να εμφανίζει και μπλε-πράσινες περιοχές (clusters) και κόκκινες περιοχές (ορίων). Παρατηρήστε ποια σχέση υπάρχει μεταξύ αριθμού ταινιών στο final set, μεγέθους grid και ποιότητας U-matrix.\n",
        "- Για το k του k-Means προσπαθήστε να προσεγγίζει σχετικά τα clusters του U-matrix (όπως είπαμε είναι διαφορετικοί μέθοδοι clustering). Μικρός αριθμός k δεν θα σέβεται τα όρια. Μεγάλος αριθμός θα δημιουργεί υπο-clusters εντός των clusters που φαίνονται στο U-matrix. Το τελευταίο δεν είναι απαραίτητα κακό, αλλά μεγαλώνει τον αριθμό clusters που πρέπει να αναλυθούν σημασιολογικά.\n",
        "- Σε μικρούς χάρτες και με μικρά final sets δοκιμάστε διαφορετικές παραμέτρους για την εκπαίδευση του SOM. Σημειώστε τυχόν παραμέτρους που επηρεάζουν την ποιότητα του clustering για το dataset σας ώστε να τις εφαρμόσετε στους μεγάλους χάρτες.\n",
        "- Κάποια τοπολογικά χαρακτηριστικά εμφανίζονται ήδη σε μικρούς χάρτες. Κάποια άλλα χρειάζονται μεγαλύτερους χάρτες. Δοκιμάστε μεγέθη 20x20, 25x25 ή και 30x30 και αντίστοιχη προσαρμογή των k. Όσο μεγαλώνουν οι χάρτες, μεγαλώνει η ανάλυση του χάρτη αλλά μεγαλώνει και ο αριθμός clusters που πρέπει να αναλυθούν.\n"
      ]
    },
    {
      "cell_type": "markdown",
      "metadata": {
        "id": "x4IUl8O8ayVf"
      },
      "source": [
        "\n",
        "\n",
        "## Ανάλυση τοπολογικών ιδιοτήτων χάρτη SOM\n",
        "\n",
        "Μετά το πέρας της εκπαίδευσης και του clustering θα έχετε ένα χάρτη με τοπολογικές ιδιότητες ως προς τα είδη των ταίνιών της συλλογής σας, κάτι αντίστοιχο με την εικόνα στην αρχή της Εφαρμογής 2 αυτού του notebook. Η συγκεκριμένη εικόνα είναι μόνο για εικονογράφιση, δεν είναι χάρτης SOM καιδεν έχει καμία σχέση με τη συλλογή δεδομένων και τις κατηγορίες μας.\n",
        "\n",
        "Για τον τελικό χάρτη SOM που θα παράξετε για τη συλλογή σας, αναλύστε σε markdown με συγκεκριμένη αναφορά σε αριθμούς clusters και τη σημασιολογική ερμηνεία τους τις εξής τρεις τοπολογικές ιδιότητες του SOM: \n",
        "\n",
        "1. Δεδομένα που έχουν μεγαλύτερη πυκνότητα πιθανότητας στο χώρο εισόδου τείνουν να απεικονίζονται με περισσότερους νευρώνες στο χώρο μειωμένης διαστατικότητας. Δώστε παραδείγματα από συχνές και λιγότερο συχνές κατηγορίες ταινιών. Χρησιμοποιήστε τις στατιστικές των κατηγοριών στη συλλογή σας και τον αριθμό κόμβων που χαρακτηρίζουν.\n",
        "2. Μακρινά πρότυπα εισόδου τείνουν να απεικονίζονται απομακρυσμένα στο χάρτη. Υπάρχουν χαρακτηριστικές κατηγορίες ταινιών που ήδη από μικρούς χάρτες τείνουν να τοποθετούνται σε διαφορετικά ή απομονωμένα σημεία του χάρτη.\n",
        "3. Κοντινά πρότυπα εισόδου τείνουν να απεικονίζονται κοντά στο χάρτη. Σε μεγάλους χάρτες εντοπίστε είδη ταινιών και κοντινά τους υποείδη.\n",
        "\n",
        "Προφανώς τοποθέτηση σε 2 διαστάσεις που να σέβεται μια απόλυτη τοπολογία δεν είναι εφικτή, αφενός γιατί δεν υπάρχει κάποια απόλυτη εξ ορισμού για τα κινηματογραφικά είδη ακόμα και σε πολλές διαστάσεις, αφετέρου γιατί πραγματοποιούμε μείωση διαστατικότητας.\n",
        "\n",
        "Εντοπίστε μεγάλα clusters και μικρά clusters που δεν έχουν σαφή χαρακτηριστικά. Εντοπίστε clusters συγκεκριμένων ειδών που μοιάζουν να μην έχουν τοπολογική συνάφεια με γύρω περιοχές. Προτείνετε πιθανές ερμηνείες.\n",
        "\n",
        "\n",
        "Τέλος, εντοπίστε clusters που έχουν κατά την άποψή σας ιδιαίτερο ενδιαφέρον στη συλλογή της ομάδας σας (data exploration / discovery value) και σχολιάστε.\n"
      ]
    },
    {
      "cell_type": "markdown",
      "metadata": {
        "id": "tYjxGR5DawIy"
      },
      "source": [
        "\n",
        "# Τελική παράδοση άσκησης\n",
        "\n",
        "- Θα παραδώσετε στο helios το παρόν notebook επεξεργασμένο ή ένα ή δύο νέα zipαρισμένα με τις απαντήσεις σας για τα ζητούμενα και των δύο εφαρμογών. \n",
        "- Θυμηθείτε ότι η ανάλυση του χάρτη στο markdown με αναφορά σε αριθμούς clusters πρέπει να αναφέρεται στον τελικό χάρτη με τα κελιά ορατά που θα παραδώσετε αλλιώς ο χάρτης που θα προκύψει θα είναι διαφορετικός και τα labels των clusters δεν θα αντιστοιχούν στην ανάλυσή σας. \n",
        "- Μην ξεχάσετε στην αρχή ένα κελί markdown με **τα στοιχεία της ομάδας σας**."
      ]
    },
    {
      "cell_type": "markdown",
      "metadata": {
        "id": "UHhCkvxjnitd"
      },
      "source": [
        "<table>\n",
        "  <tr><td align=\"center\">\n",
        "    <font size=\"4\">Παρακαλούμε διατρέξτε βήμα-βήμα το notebook για να μην ξεχάσετε παραδοτέα</font>\n",
        "</td>\n",
        "  </tr>\n",
        "</table>"
      ]
    }
  ],
  "metadata": {
    "colab": {
      "name": "Εργασία_2_Unsupervised_Learning_Εκφώνηση.ipynb",
      "provenance": []
    },
    "kernelspec": {
      "display_name": "Python 3.5",
      "language": "python",
      "name": "python3"
    },
    "language_info": {
      "codemirror_mode": {
        "name": "ipython",
        "version": 3
      },
      "file_extension": ".py",
      "mimetype": "text/x-python",
      "name": "python",
      "nbconvert_exporter": "python",
      "pygments_lexer": "ipython3",
      "version": "3.9.9"
    }
  },
  "nbformat": 4,
  "nbformat_minor": 0
}
